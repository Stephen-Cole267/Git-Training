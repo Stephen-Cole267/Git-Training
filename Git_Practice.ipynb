{
 "cells": [
  {
   "cell_type": "markdown",
   "id": "b4e4e345",
   "metadata": {},
   "source": [
    "# Practice Repository"
   ]
  },
  {
   "cell_type": "code",
   "execution_count": 2,
   "id": "8e186948",
   "metadata": {},
   "outputs": [],
   "source": [
    "from datetime import timedelta, datetime\n",
    "import time\n",
    "import numpy"
   ]
  },
  {
   "cell_type": "markdown",
   "id": "68c58b53",
   "metadata": {},
   "source": [
    "##### Last Updated"
   ]
  },
  {
   "cell_type": "code",
   "execution_count": 3,
   "id": "ab0fe5c3",
   "metadata": {},
   "outputs": [
    {
     "name": "stdout",
     "output_type": "stream",
     "text": [
      "Last Updated: 22/06/2022 09:49:33\n"
     ]
    }
   ],
   "source": [
    "from datetime import datetime\n",
    "print(f\"Last Updated: {datetime.now().strftime('%d/%m/%Y %H:%M:%S')}\")"
   ]
  },
  {
   "cell_type": "markdown",
   "id": "2b52c753",
   "metadata": {},
   "source": [
    "These are steve's changes"
   ]
  },
  {
   "cell_type": "markdown",
   "id": "dbd9c8a9",
   "metadata": {},
   "source": [
    "Add your changes below:"
   ]
  },
  {
   "cell_type": "markdown",
   "id": "7ab28659",
   "metadata": {},
   "source": []
  }
 ],
 "metadata": {
  "kernelspec": {
   "display_name": "Python 3 (ipykernel)",
   "language": "python",
   "name": "python3"
  },
  "language_info": {
   "codemirror_mode": {
    "name": "ipython",
    "version": 3
   },
   "file_extension": ".py",
   "mimetype": "text/x-python",
   "name": "python",
   "nbconvert_exporter": "python",
   "pygments_lexer": "ipython3",
   "version": "3.9.7"
  }
 },
 "nbformat": 4,
 "nbformat_minor": 5
}
