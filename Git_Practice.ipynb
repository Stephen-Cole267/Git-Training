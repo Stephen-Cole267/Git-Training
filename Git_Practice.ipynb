{
 "cells": [
  {
   "cell_type": "markdown",
   "id": "fea6ab1b",
   "metadata": {},
   "source": [
    "# Practice Repository"
   ]
  },
  {
   "cell_type": "code",
   "execution_count": 2,
   "id": "97f11155",
   "metadata": {},
   "outputs": [],
   "source": [
    "from datetime import timedelta, datetime\n",
    "import time\n",
    "import numpy"
   ]
  },
  {
   "cell_type": "markdown",
   "id": "2a1bb521",
   "metadata": {},
   "source": [
    "##### Last Updated"
   ]
  },
  {
   "cell_type": "code",
   "execution_count": 4,
   "id": "8c9361a7",
   "metadata": {},
   "outputs": [
    {
     "name": "stdout",
     "output_type": "stream",
     "text": [
      "Last Updated: 22/06/2022 10:34:32\n"
     ]
    }
   ],
   "source": [
    "from datetime import datetime\n",
    "print(f\"Last Updated: {datetime.now().strftime('%d/%m/%Y %H:%M:%S')}\")"
   ]
  },
  {
   "cell_type": "markdown",
   "id": "cd44bb5f",
   "metadata": {},
   "source": [
    "These are steve's changes"
   ]
  },
  {
   "cell_type": "markdown",
   "id": "5cc57d80",
   "metadata": {},
   "source": [
    "Add your changes below:"
   ]
  },
  {
   "cell_type": "markdown",
   "id": "fda7e917",
   "metadata": {},
   "source": [
    "new changes here"
   ]
  },
  {
   "cell_type": "code",
   "execution_count": 1,
   "id": "829c4b95",
   "metadata": {},
   "outputs": [
    {
     "name": "stdout",
     "output_type": "stream",
     "text": [
      "Changes made by Eugene\n"
     ]
    }
   ],
   "source": [
    "print(\"Changes made by Eugene\")"
   ]
  }
 ],
 "metadata": {
  "kernelspec": {
   "display_name": "Python 3 (ipykernel)",
   "language": "python",
   "name": "python3"
  },
  "language_info": {
   "codemirror_mode": {
    "name": "ipython",
    "version": 3
   },
   "file_extension": ".py",
   "mimetype": "text/x-python",
   "name": "python",
   "nbconvert_exporter": "python",
   "pygments_lexer": "ipython3",
   "version": "3.9.7"
  }
 },
 "nbformat": 4,
 "nbformat_minor": 5
}
